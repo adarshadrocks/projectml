{
 "cells": [
  {
   "cell_type": "code",
   "execution_count": 2,
   "metadata": {},
   "outputs": [
    {
     "name": "stdout",
     "output_type": "stream",
     "text": [
      "List Trainer: [####################] 100%\n",
      "List Trainer: [####################] 100%\n",
      "List Trainer: [####################] 100%\n",
      "List Trainer: [####################] 100%\n",
      "List Trainer: [####################] 100%\n",
      "List Trainer: [####################] 100%\n",
      "List Trainer: [####################] 100%\n",
      "List Trainer: [####################] 100%\n",
      "List Trainer: [####################] 100%\n",
      "List Trainer: [####################] 100%\n",
      "List Trainer: [####################] 100%\n",
      "List Trainer: [####################] 100%\n",
      "List Trainer: [####################] 100%\n",
      "List Trainer: [####################] 100%\n",
      "List Trainer: [####################] 100%\n",
      "List Trainer: [####################] 100%\n",
      "List Trainer: [####################] 100%\n",
      "List Trainer: [####################] 100%\n",
      "You :hello\n",
      "Jarvis replied : - - Greetings!\n",
      "You :hello\n",
      "Jarvis replied : - - Greetings!\n",
      "You :how r u\n",
      "Jarvis replied : - I am doing well.\n",
      "You :how r u\n",
      "Jarvis replied : - I am doing well.\n",
      "You :who r u\n",
      "Jarvis replied : - Who? Who is but a form following the function of what\n",
      "You :are you a scientist?\n",
      "Jarvis replied : - In all probability, I am not. I'm not that sophisticated.\n",
      "You :who r u?\n",
      "Jarvis replied : are you a scientist?\n",
      "You :hello\n",
      "Jarvis replied : how r u\n",
      "You :hello\n",
      "Jarvis replied : how r u\n",
      "You :what are you doing?\n",
      "Jarvis replied : - I am doing well.\n",
      "You :you know you are a robot?\n",
      "Jarvis replied : - Yes I am.\n",
      "You :what do you about me?\n",
      "Jarvis replied : - Do you hate?\n",
      "You :what do you know about me?\n",
      "Jarvis replied : - Beautiful is better than ugly.\n",
      "You :can you tell me something about flowers?\n",
      "Jarvis replied : - - you are a cheat\n",
      "You :what is a dog?\n",
      "Jarvis replied : - 'dollar: unit of currency in the united states.'\n",
      "You :who are the animals?\n",
      "Jarvis replied : - what is the illuminati\n",
      "You :bye\n",
      "Jarvis replied : - - Who are you?\n",
      "You :bye\n",
      "Jarvis replied : - - Who are you?\n",
      "You :Bye\n",
      "jarvis replied : Bye\n"
     ]
    }
   ],
   "source": [
    "#!/usr/bin/python3\n",
    "from chatterbot import ChatBot#import the chatbot\n",
    "from chatterbot.trainers import ListTrainer#method to train the chatterbot\n",
    "import os\n",
    "jarvis = ChatBot('Test')#create the chatbot\n",
    "jarvis.set_trainer(ListTrainer)\n",
    "#here I download chatterbot-corpus master file and import the path\n",
    "for files in os.listdir('/home/adarsh/Downloads/chatterbot-corpus-master/chatterbot_corpus/data/english/'):\n",
    "    #reading the data from corpus file\n",
    "    data=open('/home/adarsh/Downloads/chatterbot-corpus-master/chatterbot_corpus/data/english/' + files ,'r').readlines()\n",
    "    jarvis.train(data)\n",
    "while True:\n",
    "    request = input('You :')\n",
    "    if request.strip() != 'Bye':\n",
    "        response = jarvis.get_response(request)\n",
    "        print('Jarvis replied :',response)\n",
    "    if request.strip()=='Bye':\n",
    "        print('jarvis replied : Bye')\n",
    "        break"
   ]
  },
  {
   "cell_type": "code",
   "execution_count": null,
   "metadata": {},
   "outputs": [],
   "source": []
  }
 ],
 "metadata": {
  "kernelspec": {
   "display_name": "Python 3",
   "language": "python",
   "name": "python3"
  },
  "language_info": {
   "codemirror_mode": {
    "name": "ipython",
    "version": 3
   },
   "file_extension": ".py",
   "mimetype": "text/x-python",
   "name": "python",
   "nbconvert_exporter": "python",
   "pygments_lexer": "ipython3",
   "version": "3.6.3"
  }
 },
 "nbformat": 4,
 "nbformat_minor": 2
}
